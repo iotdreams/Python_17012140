{
 "cells": [
  {
   "cell_type": "markdown",
   "metadata": {},
   "source": [
    "#### Estudiante:   Erick J. Pineda Amézquita\n",
    "#### Carnet:       17012140\n",
    "#### Universidad Galileo \n",
    "\n",
    "\n",
    "# Tarea #2:    Investigación funciones en Python\n",
    "\n",
    "**Funciones**:\n",
    "Tambien llamadas sub-rutinas, procedimientos o metodos en otros lenguajes, esta tarea consiste en investigar:\n",
    "* funciones en Python\n",
    "* parametros posisionales\n",
    "* parametros nombrados\n",
    "* retorno de multiples valores\n",
    "* funciones como objetos y como parametros de otras funciones\n",
    "* funciones anonimas o lambda\n",
    "\n"
   ]
  },
  {
   "cell_type": "markdown",
   "metadata": {},
   "source": [
    "### 1. Funciones en Python\n",
    "Una función en Python es un bloque de instrucciones que están enmarcadas por un identificador (nombre de la función) que sirve para que dichas instrucciones se ejecuten al momento de hacer una llamada a dicha función. \n",
    "Las funciones pueden recibir parámetros de entrada y también pueden devolver un valor al momento de finalizar todas las instrucciones, la palabra reservada que se utiliza es \"return\".\n",
    "\n",
    "Ejemplo de funciones:"
   ]
  },
  {
   "cell_type": "code",
   "execution_count": 8,
   "metadata": {},
   "outputs": [
    {
     "name": "stdout",
     "output_type": "stream",
     "text": [
      "El valor  5  es menor a  9\n"
     ]
    }
   ],
   "source": [
    "def numeroMayor(x,y): ##No valido para numeros iguales\n",
    "    if x < y:\n",
    "        print (\"El valor \",x,\" es menor a \",y)\n",
    "    else:\n",
    "        print (\"El valor \",y,\" es mayor a \",y)\n",
    "\n",
    "numeroMayor (5,9)\n",
    "        "
   ]
  },
  {
   "cell_type": "markdown",
   "metadata": {},
   "source": [
    "### 2. Parametros posisionales\n",
    "Cuando se define una función con parámetros de entrada, se establece que al momento de llamar la función ésta va a recibir\n",
    "los datos en el orden como se definieron, es decir, si por ejemplo el primer parámetro es un tipo numerico y el segundo \n",
    "es tipo caracter, al momento de llamar la función debe hacerse conociendo ese orden ya que se asume la posición\n",
    "del tipo de dato al momento en que se definió el ordenn de los parámetros en la función. \n",
    "\n",
    "Ejemplo: \n",
    "verNota\n"
   ]
  },
  {
   "cell_type": "code",
   "execution_count": 13,
   "metadata": {},
   "outputs": [
    {
     "name": "stdout",
     "output_type": "stream",
     "text": [
      "Carnet:  1\n",
      "Nombre:  Erick Pineda\n",
      "Nota:  99.5\n"
     ]
    }
   ],
   "source": [
    "def verNota(carnet,nombre,nota):\n",
    "    print(\"Carnet: \",carnet)\n",
    "    print(\"Nombre: \",nombre)\n",
    "    print(\"Nota: \",nota)\n",
    "\n",
    "verNota(1,\"Erick Pineda\",99.5)\n",
    "\n",
    "\n"
   ]
  },
  {
   "cell_type": "markdown",
   "metadata": {},
   "source": [
    "### 3. Parametros nombrados\n",
    "A diferencia de los parámetros posicionales, donde el orden de los parámetros determinan las variables a utilizar, \n",
    "en los parámetros nombrados, al momento de utilizar la funión se puede hacer un llamado a cada parámetro por medio de su identificador, ésto permite que los parámetros sean llamados en cualquier orden, para ello se utiliza el signo de igual =\n",
    "\n",
    "Ejemplo:\n",
    "Observar que se tiene el mismo resultado."
   ]
  },
  {
   "cell_type": "code",
   "execution_count": 15,
   "metadata": {
    "scrolled": true
   },
   "outputs": [
    {
     "name": "stdout",
     "output_type": "stream",
     "text": [
      "Carnet:  1\n",
      "Nombre:  Erick Pineda\n",
      "Nota:  99.5\n",
      "Carnet:  1\n",
      "Nombre:  Erick Pineda\n",
      "Nota:  99.5\n"
     ]
    }
   ],
   "source": [
    "def verNota(carnet,nombre,nota):\n",
    "    print(\"Carnet: \",carnet)\n",
    "    print(\"Nombre: \",nombre)\n",
    "    print(\"Nota: \",nota)\n",
    "\n",
    "verNota(nota=99.5,nombre=\"Erick Pineda\",carnet=1)\n",
    "verNota(nombre=\"Erick Pineda\",carnet=1,nota=99.5)\n"
   ]
  },
  {
   "cell_type": "markdown",
   "metadata": {},
   "source": [
    "### 4. Retorno de multiples valores\n",
    "Las funciones pueden retornar mas de un valor al momento de que la función finalice por completo.\n",
    "Ejemplo:\n",
    "Obtener la suma y el producto de dos numeros."
   ]
  },
  {
   "cell_type": "code",
   "execution_count": 21,
   "metadata": {},
   "outputs": [
    {
     "name": "stdout",
     "output_type": "stream",
     "text": [
      "La suma y producto de  7 y  5  respectivamente es:\n"
     ]
    },
    {
     "data": {
      "text/plain": [
       "(12, 35)"
      ]
     },
     "execution_count": 21,
     "metadata": {},
     "output_type": "execute_result"
    }
   ],
   "source": [
    "def sumaProd (x,y):\n",
    "    print (\"La suma y producto de \",x , \"y \",y, \" respectivamente es:\")\n",
    "    return x+y,x*y\n",
    "    #return \"Suma: \"x+y, \" ---- Producto: \"x*y\n",
    "\n",
    "sumaProd(7,5)"
   ]
  },
  {
   "cell_type": "markdown",
   "metadata": {},
   "source": [
    "###  5. Funciones como objetos y como parametros de otras funciones\n",
    "\n",
    "El resultado de una función se puede almacenar en una variable, incluso, ejecutar una función en un parámetro de una función:\n",
    "Ejemplo:\n",
    "Area de un circulo de radio r.\n"
   ]
  },
  {
   "cell_type": "code",
   "execution_count": null,
   "metadata": {},
   "outputs": [],
   "source": []
  },
  {
   "cell_type": "code",
   "execution_count": 28,
   "metadata": {},
   "outputs": [
    {
     "name": "stdout",
     "output_type": "stream",
     "text": [
      "*****FUNCION COMO OBJETO**********\n",
      "El area del circulo de radio  5 es de:  78.53981633974483\n",
      "*****FUNCION COMO PARAMETRO**********\n",
      "El perimetro del circulo de radio  5  es:  31.41592653589793\n",
      "El area del circulo de radio  5  es:  78.53981633974483\n"
     ]
    }
   ],
   "source": [
    "### Para este ejemplo vamos a utilizar dos funciones\n",
    "\n",
    "#### Area\n",
    "import math\n",
    "def area(r):\n",
    "    return math.pi*r**2\n",
    "\n",
    "\n",
    "### perimetroArea \n",
    "def perimetroArea(radio,area):\n",
    "    print(\"El perimetro del circulo de radio \",radio,\" es: \", 2*math.pi*radio)\n",
    "    print(\"El area del circulo de radio \",radio,\" es: \", area)\n",
    "\n",
    "\n",
    "\n",
    "\n",
    "## Funcion como objeto, observar que el resultado se almacena en una variable:\n",
    "print(\"*****FUNCION COMO OBJETO**********\")\n",
    "r=5\n",
    "areaCirculo=area(r)\n",
    "print(\"El area del circulo de radio \",r,\"es de: \", areaCirculo)\n",
    "\n",
    "\n",
    "print(\"*****FUNCION COMO PARAMETRO**********\")\n",
    "## Funcion como parametro, obsrevar que se utiliza una funcion como parametro:\n",
    "perimetroArea(r,area(r))\n",
    "\n"
   ]
  },
  {
   "cell_type": "markdown",
   "metadata": {},
   "source": [
    "### 6. Funciones anonimas o lambda\n",
    "Las funciones lambda son utilizadas para tener resultados inmediatos, se utilizan para probar alguna función que no requiera tanta complejidad. Puede tener parametros o no. Existe un equivalente a las funciones tradicionales o convencionales respecto a las de lambda. \n",
    "\n",
    "Por ejemplo, la sumatoria de 4 digitos.\n",
    "Funcion convecional:\n"
   ]
  },
  {
   "cell_type": "code",
   "execution_count": 29,
   "metadata": {},
   "outputs": [
    {
     "data": {
      "text/plain": [
       "10"
      ]
     },
     "execution_count": 29,
     "metadata": {},
     "output_type": "execute_result"
    }
   ],
   "source": [
    "def sumatoriaConv(a,b,c,d):\n",
    "    return a+b+c+d\n",
    "\n",
    "sumatoriaConv(1,2,3,4)"
   ]
  },
  {
   "cell_type": "markdown",
   "metadata": {},
   "source": [
    "Ejemplo utilizando función Lambda:\n",
    "    "
   ]
  },
  {
   "cell_type": "code",
   "execution_count": 34,
   "metadata": {},
   "outputs": [
    {
     "data": {
      "text/plain": [
       "10"
      ]
     },
     "execution_count": 34,
     "metadata": {},
     "output_type": "execute_result"
    }
   ],
   "source": [
    "sumatoriaLambda = lambda a,b,c,d: a+b+c+d\n",
    "sumatoriaLambda (1,2,3,4)\n"
   ]
  }
 ],
 "metadata": {
  "kernelspec": {
   "display_name": "Python 3",
   "language": "python",
   "name": "python3"
  },
  "language_info": {
   "codemirror_mode": {
    "name": "ipython",
    "version": 3
   },
   "file_extension": ".py",
   "mimetype": "text/x-python",
   "name": "python",
   "nbconvert_exporter": "python",
   "pygments_lexer": "ipython3",
   "version": "3.7.1"
  }
 },
 "nbformat": 4,
 "nbformat_minor": 2
}
